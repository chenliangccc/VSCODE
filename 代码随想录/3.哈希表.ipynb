{
 "cells": [
  {
   "attachments": {},
   "cell_type": "markdown",
   "metadata": {},
   "source": [
    "# [1. 哈希表理论基础](https://programmercarl.com/%E5%93%88%E5%B8%8C%E8%A1%A8%E7%90%86%E8%AE%BA%E5%9F%BA%E7%A1%80.html)\n",
    "\n",
    "# [2. 有效的字母异位词](https://programmercarl.com/0242.%E6%9C%89%E6%95%88%E7%9A%84%E5%AD%97%E6%AF%8D%E5%BC%82%E4%BD%8D%E8%AF%8D.html#_242-%E6%9C%89%E6%95%88%E7%9A%84%E5%AD%97%E6%AF%8D%E5%BC%82%E4%BD%8D%E8%AF%8D)\n",
    "\n",
    "## [242. 有效的字母异位词](https://leetcode.cn/problems/valid-anagram/)\n",
    "\n",
    "给定两个字符串 s 和 t ，编写一个函数来判断 t 是否是 s 的字母异位词。\n",
    "\n",
    "示例 1: 输入: s = \"anagram\", t = \"nagaram\" 输出: true\n",
    "\n",
    "示例 2: 输入: s = \"rat\", t = \"car\" 输出: false\n",
    "\n",
    "说明: 你可以假设字符串只包含小写字母。\n",
    "\n",
    "### [思路](https://programmercarl.com/0242.%E6%9C%89%E6%95%88%E7%9A%84%E5%AD%97%E6%AF%8D%E5%BC%82%E4%BD%8D%E8%AF%8D.html#%E6%80%9D%E8%B7%AF)\n",
    "\n",
    "1. 定义一个数组叫做record用来上记录字符串s里字符出现的次数。\n",
    "\n",
    "    需要把字符映射到数组也就是哈希表的索引下标上，因为字符a到字符z的ASCII是26个连续的数值，所以字符a映射为下标0，相应的字符z映射为下标25。\n",
    "\n",
    "2. 再遍历 字符串s的时候，只需要将 s[i] - ‘a’ 所在的元素做 +1 操作即可，并不需要记住字符a的ASCII，只要求出一个相对数值就可以了。 这样就将字符串s中字符出现的次数，统计出来了。\n",
    "\n",
    "    那看一下如何检查字符串t中是否出现了这些字符，同样在遍历字符串t的时候，对t中出现的字符映射哈希表索引上的数值再做-1的操作。\n",
    "\n",
    "3. 那么最后检查一下，record数组如果有的元素不为零0，说明字符串s和t一定是谁多了字符或者谁少了字符，return false。\n",
    "\n",
    "    最后如果record数组所有元素都为零0，说明字符串s和t是字母异位词，return true。\n",
    "\n",
    "时间复杂度为O(n)，空间上因为定义是的一个常量大小的辅助数组，所以空间复杂度为O(1)。"
   ]
  },
  {
   "cell_type": "code",
   "execution_count": 4,
   "metadata": {},
   "outputs": [],
   "source": [
    "class Solution:\n",
    "\n",
    "    def isAnagram(self, s, t):\n",
    "        # 创建一个数组，存放26个小写字母的数量\n",
    "        record = [0] * 26\n",
    "        # 将对应字母的数量存放在数组中\n",
    "        for i in s:\n",
    "            # ord(\"b\")-ord(\"a\")=1\n",
    "            record[ord(i) - ord(\"a\")] += 1\n",
    "\n",
    "        for i in t:\n",
    "            record[ord(i) - ord(\"a\")] -= 1\n",
    "        # 如果数组为0，表明两个字符串的字母种类个数完全相等，是字母异位词\n",
    "        for i in range(26):\n",
    "            if record[i] != 0:\n",
    "                return False\n",
    "\n",
    "        return True"
   ]
  },
  {
   "attachments": {},
   "cell_type": "markdown",
   "metadata": {},
   "source": [
    "## [383. 救赎信](https://leetcode.cn/problems/ransom-note/)\n",
    "\n",
    "给定一个赎金信 (ransom) 字符串和一个杂志(magazine)字符串，判断第一个字符串 ransom 能不能由第二个字符串 magazines 里面的字符构成。如果可以构成，返回 true ；否则返回 false。\n",
    "\n",
    "(题目说明：为了不暴露赎金信字迹，要从杂志上搜索各个需要的字母，组成单词来表达意思。杂志字符串中的每个字符只能在赎金信字符串中使用一次。)\n",
    "\n",
    "注意： 你可以假设两个字符串均只含有小写字母。\n",
    "\n",
    "例子：\n",
    "```text\n",
    "canConstruct(\"a\", \"b\") -> false\n",
    "canConstruct(\"aa\", \"ab\") -> false\n",
    "canConstruct(\"aa\", \"aab\") -> true\n",
    "```\n",
    "\n",
    "### 思路"
   ]
  },
  {
   "cell_type": "code",
   "execution_count": null,
   "metadata": {},
   "outputs": [],
   "source": [
    "from collections import defaultdict\n",
    "\n",
    "\n",
    "class Solution:\n",
    "\n",
    "    def canConstruct(self, ransomNote, magazine):\n",
    "\n",
    "        hashmap = defaultdict(int)\n",
    "\n",
    "        for x in magazine:\n",
    "            hashmap[x] += 1\n",
    "\n",
    "        for x in ransomNote:\n",
    "            value = hashmap.get(x)\n",
    "            if not value or value == 0:\n",
    "                return False\n",
    "            else:\n",
    "                hashmap[x] -= 1\n",
    "        return True"
   ]
  },
  {
   "attachments": {},
   "cell_type": "markdown",
   "metadata": {},
   "source": [
    "## [48.字母异位词分组](https://leetcode.cn/problems/group-anagrams/)\n",
    "\n",
    "给你一个字符串数组，请你将 **字母异位词** 组合在一起。可以按任意顺序返回结果列表。\n",
    "\n",
    "字母异位词 是由重新排列源单词的字母得到的一个新单词，所有源单词中的字母通常恰好只用一次。\n",
    "\n",
    "示例 1:\n",
    "\n",
    "输入: strs = [\"eat\", \"tea\", \"tan\", \"ate\", \"nat\", \"bat\"]\n",
    "\n",
    "输出: [[\"bat\"],[\"nat\",\"tan\"],[\"ate\",\"eat\",\"tea\"]]"
   ]
  },
  {
   "cell_type": "code",
   "execution_count": 1,
   "metadata": {},
   "outputs": [
    {
     "name": "stdout",
     "output_type": "stream",
     "text": [
      "[['eat', 'tea', 'ate'], ['tan', 'nat'], ['bat']]\n"
     ]
    }
   ],
   "source": [
    "import collections\n",
    "\n",
    "\n",
    "class Solution:\n",
    "    def groupAnagrams(self,strs):\n",
    "        mp = collections.defaultdict(list)\n",
    "\n",
    "        for st in strs:\n",
    "            # 将每个字符串进行排序，完全相同的互为字母异位词\n",
    "            key = \"\".join(sorted(st))\n",
    "            # 将排序后的词作为哈希表的键\n",
    "            mp[key].append(st)\n",
    "       \n",
    "        return list(mp.values())\n",
    "        \n",
    "strs = [\"eat\",\"tea\",\"tan\",\"ate\",\"nat\",\"bat\"]\n",
    "g = Solution().groupAnagrams(strs)\n",
    "print(g)"
   ]
  },
  {
   "cell_type": "code",
   "execution_count": 12,
   "metadata": {},
   "outputs": [
    {
     "name": "stdout",
     "output_type": "stream",
     "text": [
      "[['eat', 'tea', 'ate'], ['tan', 'nat'], ['bat']]\n"
     ]
    }
   ],
   "source": [
    "import collections\n",
    "\n",
    "\n",
    "class Solution(object):\n",
    "\n",
    "    def groupAnagrams(self, strs):\n",
    "        \"\"\"\n",
    "        :type strs: List[str]\n",
    "        :rtype: List[List[str]]\n",
    "        \"\"\"\n",
    "        mp = collections.defaultdict(list)\n",
    "\n",
    "        for st in strs:\n",
    "            counts = [0] * 26\n",
    "            for ch in st:\n",
    "                counts[ord(ch) - ord(\"a\")] += 1\n",
    "            # 需要将 list 转换成 tuple 才能进行哈希\n",
    "            mp[tuple(counts)].append(st)\n",
    "        return list(mp.values())\n",
    "    \n",
    "strs = [\"eat\",\"tea\",\"tan\",\"ate\",\"nat\",\"bat\"]\n",
    "g = Solution().groupAnagrams(strs)\n",
    "print(g)"
   ]
  },
  {
   "attachments": {},
   "cell_type": "markdown",
   "metadata": {},
   "source": [
    "## [438.找到字符串中所有字母异位词](https://leetcode.cn/problems/find-all-anagrams-in-a-string/)\n",
    "\n",
    "给定两个字符串 s 和 p，找到 s 中所有 p 的 异位词 的子串，返回这些子串的起始索引。不考虑答案输出的顺序。\n",
    "\n",
    "**异位词** 指由相同字母重排列形成的字符串（包括相同的字符串）。\n",
    "\n",
    "示例 1:\n",
    "```text\n",
    "输入: s = \"cbaebabacd\", p = \"abc\"\n",
    "输出: [0,6]\n",
    "解释:\n",
    "起始索引等于 0 的子串是 \"cba\", 它是 \"abc\" 的异位词。\n",
    "起始索引等于 6 的子串是 \"bac\", 它是 \"abc\" 的异位词。\n",
    "```\n",
    "\n",
    "### [思路——滑动窗口](https://leetcode.cn/problems/find-all-anagrams-in-a-string/solution/zhao-dao-zi-fu-chuan-zhong-suo-you-zi-mu-xzin/)\n",
    "\n",
    "复杂度分析\n",
    "\n",
    "- 时间复杂度：`O(m+(n−m)×Σ)`，其中 `n` 为字符串 `s` 的长度，`m` 为字符串 `p` 的长度，`Σ` 为所有可能的字符数。我们需要 `O(m)` 来统计字符串 `p` 中每种字母的数量；需要 `O(m)` 来初始化滑动窗口；需要判断 `n−m+1` 个滑动窗口中每种字母的数量是否与字符串 `p` 中每种字母的数量相同，每次判断需要 `O(Σ)` 。因为 `p` 仅包含小写字母，所以 `Σ=26`。\n",
    "- 空间复杂度：`O(Σ)`。用于存储字符串 `p` 和滑动窗口中每种字母的数量"
   ]
  },
  {
   "cell_type": "code",
   "execution_count": 2,
   "metadata": {},
   "outputs": [
    {
     "name": "stdout",
     "output_type": "stream",
     "text": [
      "[0, 6]\n"
     ]
    }
   ],
   "source": [
    "class Solution:\n",
    "\n",
    "    def findAnagrams(self, s, p):\n",
    "        s_len, p_len = len(s), len(p)\n",
    "        if s_len < p_len:\n",
    "            return []\n",
    "\n",
    "        ans = []\n",
    "        s_count = [0] * 26\n",
    "        p_count = [0] * 26\n",
    "\n",
    "        # 用数组存储字符串s和p中每种字母的数量\n",
    "        for i in range(p_len):\n",
    "            s_count[ord(s[i]) - ord(\"a\")] += 1\n",
    "            p_count[ord(p[i]) - ord(\"a\")] += 1\n",
    "\n",
    "        # 特殊情况：s的前p_len个字符和p相等\n",
    "        if s_count == p_count:\n",
    "            ans.append(0)\n",
    "\n",
    "        # 不断更新字符数量，并判断是否匹配\n",
    "        for i in range(s_len - p_len):\n",
    "            # 窗口滑动\n",
    "            s_count[ord(s[i]) - ord(\"a\")] -= 1\n",
    "            s_count[ord(s[i + p_len]) - ord(\"a\")] += 1\n",
    "\n",
    "            if s_count == p_count:\n",
    "                ans.append(i + 1)\n",
    "\n",
    "        return ans\n",
    "\n",
    "s = \"cbaebabacd\"\n",
    "p = \"abc\"\n",
    "g = Solution().findAnagrams(s,p)\n",
    "print(g)"
   ]
  },
  {
   "attachments": {},
   "cell_type": "markdown",
   "metadata": {},
   "source": [
    "### 优化的滑动窗口\n",
    "\n",
    "在方法一的基础上，我们不再分别统计滑动窗口和字符串 p 中每种字母的数量，而是统计滑动窗口和字符串 p 中每种字母数量的差；并引入变量 differ 来记录当前窗口与字符串 p 中数量不同的字母的个数，并在滑动窗口的过程中维护它\n",
    "\n",
    "在判断滑动窗口中每种字母的数量与字符串 p 中每种字母的数量是否相同时，只需要判断 differ 是否为零即可。"
   ]
  },
  {
   "cell_type": "code",
   "execution_count": null,
   "metadata": {},
   "outputs": [],
   "source": [
    "class Solution:\n",
    "\n",
    "    def findAnagrams(self, s, p):\n",
    "        s_len, p_len = len(s), len(p)\n",
    "\n",
    "        if s_len < p_len:\n",
    "            return []\n",
    "\n",
    "        ans = []\n",
    "        count = [0] * 26\n",
    "        for i in range(p_len):\n",
    "            # 滑动窗口和字符串p中的字母数量差\n",
    "            count[ord(s[i]) - 97] += 1  # ord(\"a\") = 97\n",
    "            count[ord(p[i]) - 97] -= 1\n",
    "\n",
    "        # 变量 differ 来记录当前窗口与字符串 p 中数量不同的字母的个数\n",
    "        differ = [c != 0 for c in count].count(True)\n",
    "\n",
    "        if differ == 0:\n",
    "            ans.append(0)\n",
    "\n",
    "        for i in range(s_len - p_len):\n",
    "            # 窗口前边\n",
    "            # 窗口中字母 s[i] 的数量与字符串 p 中的数量从不同变得相同\n",
    "            if count[ord(s[i]) - 97] == 1:\n",
    "                differ -= 1\n",
    "            # 窗口中字母 s[i] 的数量与字符串 p 中的数量从相同变得不同\n",
    "            elif count[ord(s[i]) - 97] == 0:\n",
    "                differ += 1\n",
    "            # 缩小窗口\n",
    "            count[ord(s[i]) - 97] -= 1\n",
    "\n",
    "            # 窗口后边\n",
    "            # 窗口中字母 s[i+p_len] 的数量与字符串 p 中的数量从不同变得相同\n",
    "            if count[ord(s[i + p_len]) - 97] == -1:\n",
    "                differ -= -1\n",
    "            # 窗口中字母 s[i+p_len] 的数量与字符串 p 中的数量从相同变得不同\n",
    "            elif count[ord(s[i + p_len]) - 97] == 0:\n",
    "                differ += 1\n",
    "            # 扩大窗口\n",
    "            count[ord(s[i + p_len]) - 97] += 1\n",
    "\n",
    "            if differ == 0:\n",
    "                ans.append(i + 1)\n",
    "\n",
    "        return ans"
   ]
  },
  {
   "attachments": {},
   "cell_type": "markdown",
   "metadata": {},
   "source": [
    "# [3.两个数组的交集](https://programmercarl.com/0349.%E4%B8%A4%E4%B8%AA%E6%95%B0%E7%BB%84%E7%9A%84%E4%BA%A4%E9%9B%86.html#_349-%E4%B8%A4%E4%B8%AA%E6%95%B0%E7%BB%84%E7%9A%84%E4%BA%A4%E9%9B%86)\n",
    "\n",
    "## [349.两个数组的交集](https://leetcode.cn/problems/intersection-of-two-arrays/)\n",
    "\n",
    "给定两个数组 `nums1` 和 `nums2` ，返回 它们的交集 。输出结果中的每个元素一定是 **唯一** 的。我们可以 **不考虑输出结果的顺序** 。\n",
    "\n",
    "示例 1：\n",
    "\n",
    "输入：nums1 = [1,2,2,1], nums2 = [2,2]\n",
    "输出：[2]\n",
    "示例 2：\n",
    "\n",
    "输入：nums1 = [4,9,5], nums2 = [9,4,9,8,4]\n",
    "输出：[9,4]\n",
    "解释：[4,9] 也是可通过的\n",
    "\n",
    "### [思路](https://leetcode.cn/problems/intersection-of-two-arrays/solution/liang-ge-shu-zu-de-jiao-ji-by-leetcode-solution/)\n"
   ]
  },
  {
   "attachments": {},
   "cell_type": "markdown",
   "metadata": {},
   "source": [
    "#### 两个集合"
   ]
  },
  {
   "cell_type": "code",
   "execution_count": null,
   "metadata": {},
   "outputs": [],
   "source": [
    "class Solution:\n",
    "\n",
    "    def set_intersection(self, set1, set2):\n",
    "        if len(set1) > len(set2):\n",
    "            return self.set_intersection(set2, set1)\n",
    "        return [x for x in set1 if x in set2]\n",
    "\n",
    "    def intersection(self, num1, num2):\n",
    "        set1 = set(num1)\n",
    "        set2 = set(num2)\n",
    "        return self.set_intersection(set1, set2)"
   ]
  },
  {
   "attachments": {},
   "cell_type": "markdown",
   "metadata": {},
   "source": [
    "#### 排序+双指针"
   ]
  },
  {
   "cell_type": "code",
   "execution_count": null,
   "metadata": {},
   "outputs": [],
   "source": [
    "class Solution:\n",
    "\n",
    "    def intersection(self, nums1, nums2):\n",
    "        nums1.sort()\n",
    "        nums2.sort()\n",
    "        length1, length2 = len(nums1), len(nums2)\n",
    "        intersection = list()\n",
    "        index1 = index2 = 0\n",
    "\n",
    "        while index1 < length1 and index2 < length2:\n",
    "            num1 = nums1[index1]\n",
    "            num2 = nums2[index2]\n",
    "\n",
    "            if num1 == num2:\n",
    "                if not intersection or num1 != intersection[-1]:\n",
    "                    intersection.append(num1)\n",
    "                index1 += 1\n",
    "                index2 += 1\n",
    "\n",
    "            elif num1 < num2:\n",
    "                index1 += 1\n",
    "            else:\n",
    "                index2 += 1\n",
    "        return intersection"
   ]
  },
  {
   "attachments": {},
   "cell_type": "markdown",
   "metadata": {},
   "source": [
    "## [350.两个数组的集合II](https://leetcode.cn/problems/intersection-of-two-arrays-ii/)\n",
    "\n",
    "给你两个整数数组 nums1 和 nums2 ，请你以数组形式返回两数组的<font color=green>**交集**</font>。\n",
    "\n",
    "返回结果中每个元素出现的次数，应与元素在两个数组中都出现的次数一致（如果出现次数不一致，则考虑取较小值）。可以不考虑输出结果的顺序。\n",
    "\n",
    "### [思路](https://leetcode.cn/problems/intersection-of-two-arrays-ii/solution/liang-ge-shu-zu-de-jiao-ji-ii-by-leetcode-solution/)\n",
    "#### 方法一：哈希表"
   ]
  },
  {
   "cell_type": "code",
   "execution_count": 22,
   "metadata": {},
   "outputs": [
    {
     "name": "stdout",
     "output_type": "stream",
     "text": [
      "[4, 9]\n"
     ]
    }
   ],
   "source": [
    "import collections\n",
    "\n",
    "\n",
    "class Solution:\n",
    "\n",
    "    def intersect(self, nums1, nums2):\n",
    "        if len(nums1) < len(nums2):\n",
    "            return self.intersect(nums2, nums1)\n",
    "\n",
    "        m = collections.Counter()\n",
    "        for num in nums1:\n",
    "            m[num] += 1\n",
    "\n",
    "        intersection = list()\n",
    "        for num in nums2:\n",
    "            # if (count := m.get(num, 0)) > 0:\n",
    "            if m.get(num, 0) > 0:  # 获得当前num在nums1中存在的个数，get(key[,default])\n",
    "                intersection.append(num)\n",
    "                m[num] -= 1\n",
    "                if m[num] == 0:\n",
    "                    m.pop(num)\n",
    "\n",
    "        return intersection\n",
    "\n",
    "\n",
    "nums1 = [4, 9, 5]\n",
    "nums2 = [9, 4, 9, 8, 4]\n",
    "g = Solution().intersect(nums1, nums2)\n",
    "print(g)\n"
   ]
  },
  {
   "attachments": {},
   "cell_type": "markdown",
   "metadata": {},
   "source": [
    "#### 方法二：排序+双指针"
   ]
  },
  {
   "cell_type": "code",
   "execution_count": 3,
   "metadata": {},
   "outputs": [
    {
     "name": "stdout",
     "output_type": "stream",
     "text": [
      "[4, 9, 9]\n"
     ]
    }
   ],
   "source": [
    "class Solution:\n",
    "\n",
    "    def intersect(self, nums1, nums2):\n",
    "        nums1.sort()\n",
    "        nums2.sort()\n",
    "\n",
    "        length1, length2 = len(nums1), len(nums2)\n",
    "        intersection = list()\n",
    "\n",
    "        index1 = index2 = 0\n",
    "        while index1 < length1 and index2 < length2:\n",
    "            if nums1[index1] < nums2[index2]:\n",
    "                index1 += 1\n",
    "            elif nums1[index1] > nums2[index2]:\n",
    "                index2 += 1\n",
    "            else:  # nums1[index1] == nums2[index2]\n",
    "                intersection.append(nums1[index1])\n",
    "                index1 += 1\n",
    "                index2 += 1\n",
    "\n",
    "        return intersection\n",
    "\n",
    "\n",
    "nums1 = [4, 9, 9, 5]\n",
    "nums2 = [9, 4, 9, 8, 4]\n",
    "g = Solution().intersect(nums1, nums2)\n",
    "print(g)"
   ]
  },
  {
   "attachments": {},
   "cell_type": "markdown",
   "metadata": {},
   "source": [
    "# [4.快乐数](https://programmercarl.com/0202.%E5%BF%AB%E4%B9%90%E6%95%B0.html)\n",
    "\n",
    "## [202.快乐数](https://leetcode.cn/problems/happy-number/)\n",
    "\n",
    "编写一个算法来判断一个数 n 是不是快乐数。\n",
    "\n",
    "「快乐数」定义为：对于一个正整数，每一次将该数替换为它每个位置上的数字的平方和，然后重复这个过程直到这个数变为 1，也可能是 无限循环 但始终变不到 1。如果 可以变为  1，那么这个数就是快乐数。\n",
    "\n",
    "如果 n 是快乐数就返回 True ；不是，则返回 False 。\n",
    "\n",
    "示例：\n",
    "\n",
    "输入：19\n",
    "输出：true\n",
    "解释：\n",
    "1^2 + 9^2 = 82\n",
    "8^2 + 2^2 = 68\n",
    "6^2 + 8^2 = 100\n",
    "1^2 + 0^2 + 0^2 = 1"
   ]
  },
  {
   "cell_type": "code",
   "execution_count": 9,
   "metadata": {},
   "outputs": [
    {
     "name": "stdout",
     "output_type": "stream",
     "text": [
      "True\n"
     ]
    }
   ],
   "source": [
    "class Solution:\n",
    "\n",
    "    def isHappy(self, n):\n",
    "\n",
    "        def caculate_happy(num):\n",
    "            sum_ = 0\n",
    "\n",
    "            while num:\n",
    "                sum_ += (num % 10)**2\n",
    "                num = num // 10\n",
    "            return sum_\n",
    "\n",
    "        record = set()\n",
    "\n",
    "        while True:\n",
    "            n = caculate_happy(n)\n",
    "            if n == 1:\n",
    "                return True\n",
    "\n",
    "            if n in record:\n",
    "                return False\n",
    "            else:\n",
    "                record.add(n)\n",
    "\n",
    "\n",
    "n = 23\n",
    "g = Solution().isHappy(n)\n",
    "print(g)"
   ]
  },
  {
   "attachments": {},
   "cell_type": "markdown",
   "metadata": {},
   "source": [
    "# [5.两数之和](https://leetcode.cn/problems/two-sum/)\n",
    "\n",
    "给定一个整数数组 nums 和一个目标值 target，请你在该数组中找出和为目标值的那 两个 整数，并返回他们的数组下标。\n",
    "\n",
    "你可以假设每种输入只会对应一个答案。但是，数组中同一个元素不能使用两遍。\n",
    "\n",
    "示例:\n",
    "\n",
    "给定 nums = [2, 7, 11, 15], target = 9\n",
    "\n",
    "因为 nums[0] + nums[1] = 2 + 7 = 9\n",
    "\n",
    "所以返回 [0, 1]\n",
    "\n",
    "## 思路\n",
    "<img src=assets/20220711202638.png width=50%></img> \n",
    "<img src=assets/20220711202708.png width=50%></img>"
   ]
  },
  {
   "cell_type": "code",
   "execution_count": 6,
   "metadata": {},
   "outputs": [
    {
     "name": "stdout",
     "output_type": "stream",
     "text": [
      "[0, 2]\n"
     ]
    }
   ],
   "source": [
    "class Solution(object):\n",
    "\n",
    "    def twoSum(self, nums, target):\n",
    "        \"\"\"\n",
    "        :type nums: List[int]\n",
    "        :type target: int\n",
    "        :rtype: List[int]\n",
    "        \"\"\"\n",
    "        records = dict()\n",
    "\n",
    "        for index, value in enumerate(nums):\n",
    "            if target - value in records:\n",
    "                return [records[target - value], index]\n",
    "            records[value] = index\n",
    "        return []\n",
    "\n",
    "\n",
    "nums = [2, 7, 11, 15]\n",
    "target = 13\n",
    "g = Solution().twoSum(nums, target)\n",
    "print(g)"
   ]
  },
  {
   "attachments": {},
   "cell_type": "markdown",
   "metadata": {},
   "source": [
    "# [6.四数相加II](https://leetcode.cn/problems/4sum-ii/)\n",
    "\n",
    "给定四个包含整数的数组列表 A , B , C , D ,计算有多少个元组 (i, j, k, l) ，使得 A[i] + B[j] + C[k] + D[l] = 0。\n",
    "\n",
    "为了使问题简单化，所有的 A, B, C, D 具有相同的长度 N，且 0 ≤ N ≤ 500 。所有整数的范围在 -2^28 到 2^28 - 1 之间，最终结果不会超过 2^31 - 1 。\n",
    "\n",
    "例如:\n",
    "\n",
    "输入:\n",
    "\n",
    "A = [ 1, 2]\n",
    "B = [-2,-1]\n",
    "C = [-1, 2]\n",
    "D = [ 0, 2]\n",
    "输出:\n",
    "\n",
    "2\n",
    "\n",
    "**解释**:\n",
    "\n",
    "两个元组如下:\n",
    "\n",
    "(0, 0, 0, 1) -> A[0] + B[0] + C[0] + D[1] = 1 + (-2) + (-1) + 2 = 0\n",
    "\n",
    "(1, 1, 0, 0) -> A[1] + B[1] + C[0] + D[0] = 2 + (-1) + (-1) + 0 = 0"
   ]
  },
  {
   "cell_type": "code",
   "execution_count": 1,
   "metadata": {},
   "outputs": [
    {
     "name": "stdout",
     "output_type": "stream",
     "text": [
      "2\n"
     ]
    }
   ],
   "source": [
    "class Solution:\n",
    "\n",
    "    def fourSumCount(self, nums1, nums2, nums3, nums4):\n",
    "        from collections import Counter\n",
    "        countAB = Counter(u + v for u in nums1\n",
    "                          for v in nums2)  # Counter({0: 2, -1: 1, 1: 1})\n",
    "        ans = 0\n",
    "        for u in nums3:\n",
    "            for v in nums4:\n",
    "                if -v - u in countAB:\n",
    "                    ans += countAB[-u - v]\n",
    "        return ans\n",
    "\n",
    "\n",
    "nums1 = [1, 2]\n",
    "nums2 = [-2, -1]\n",
    "nums3 = [-1, 2]\n",
    "nums4 = [0, 2]\n",
    "g = Solution().fourSumCount(nums1, nums2, nums3, nums4)\n",
    "print(g)"
   ]
  },
  {
   "attachments": {},
   "cell_type": "markdown",
   "metadata": {},
   "source": [
    "# [7.赎金信](https://leetcode.cn/problems/ransom-note/)\n",
    "\n",
    "给定一个赎金信 (ransom) 字符串和一个杂志(magazine)字符串，判断第一个字符串 ransom 能不能由第二个字符串 magazines 里面的字符构成。如果可以构成，返回 true ；否则返回 false。\n",
    "\n",
    "(题目说明：为了不暴露赎金信字迹，要从杂志上搜索各个需要的字母，组成单词来表达意思。杂志字符串中的每个字符只能在赎金信字符串中使用一次。)\n",
    "\n",
    "注意：\n",
    "\n",
    "你可以假设两个字符串均只含有小写字母。\n",
    "\n",
    "canConstruct(\"a\", \"b\") -> false\n",
    "canConstruct(\"aa\", \"ab\") -> false\n",
    "canConstruct(\"aa\", \"aab\") -> true"
   ]
  },
  {
   "cell_type": "code",
   "execution_count": 6,
   "metadata": {},
   "outputs": [
    {
     "name": "stdout",
     "output_type": "stream",
     "text": [
      "True\n"
     ]
    }
   ],
   "source": [
    "class Solution:\n",
    "\n",
    "    def canConstruct(self, ransomNote, magazine):\n",
    "        from collections import defaultdict\n",
    "        mp = defaultdict(int)\n",
    "\n",
    "        for x in magazine:\n",
    "            mp[x] += 1\n",
    "\n",
    "        for x in ransomNote:\n",
    "            value = mp.get(x)\n",
    "            if not value or value == 0:\n",
    "                return False\n",
    "            else:\n",
    "                mp[x] -= 1\n",
    "        return True\n",
    "\n",
    "\n",
    "ransomNote = \"aa\"\n",
    "magazine = \"baac\"\n",
    "g = Solution().canConstruct(ransomNote, magazine)\n",
    "print(g)"
   ]
  },
  {
   "attachments": {},
   "cell_type": "markdown",
   "metadata": {},
   "source": [
    "# [8.三数之和](https://leetcode.cn/problems/3sum/)\n",
    "\n",
    "给你一个包含 n 个整数的数组 nums，判断 nums 中是否存在三个元素 a，b，c ，使得 a + b + c = 0 ？请你找出所有满足条件且不重复的三元组。\n",
    "\n",
    "注意： 答案中不可以包含重复的三元组。\n",
    "\n",
    "示例：\n",
    "\n",
    "给定数组 nums = [-1, 0, 1, 2, -1, -4]，\n",
    "\n",
    "满足要求的三元组集合为： [ [-1, 0, 1], [-1, -1, 2] ]\n",
    "\n",
    "## [双指针法](https://programmercarl.com/0015.%E4%B8%89%E6%95%B0%E4%B9%8B%E5%92%8C.html#%E5%8F%8C%E6%8C%87%E9%92%88)"
   ]
  },
  {
   "cell_type": "code",
   "execution_count": null,
   "metadata": {},
   "outputs": [],
   "source": [
    "class Solution:\n",
    "    def threeSum(self, nums):\n",
    "        # 1.排序数组\n",
    "        nums = nums.sort()\n",
    "        # 2.开始for循环，i从下标0的地方开始，下标left在i+1，下标right在数组末尾\n",
    "        for i in range(len(nums)):\n",
    "            if nums[i] > 0:\n",
    "                return\n",
    "            \n",
    "            "
   ]
  }
 ],
 "metadata": {
  "kernelspec": {
   "display_name": "Python 3",
   "language": "python",
   "name": "python3"
  },
  "language_info": {
   "codemirror_mode": {
    "name": "ipython",
    "version": 3
   },
   "file_extension": ".py",
   "mimetype": "text/x-python",
   "name": "python",
   "nbconvert_exporter": "python",
   "pygments_lexer": "ipython3",
   "version": "3.11.0"
  },
  "orig_nbformat": 4,
  "vscode": {
   "interpreter": {
    "hash": "c261aea317cc0286b3b3261fbba9abdec21eaa57589985bb7a274bf54d6cc0a7"
   }
  }
 },
 "nbformat": 4,
 "nbformat_minor": 2
}
